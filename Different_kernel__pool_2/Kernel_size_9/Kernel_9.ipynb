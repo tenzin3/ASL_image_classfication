{
  "nbformat": 4,
  "nbformat_minor": 0,
  "metadata": {
    "colab": {
      "name": "Basic_without_dropout.ipynb",
      "provenance": [],
      "collapsed_sections": [],
      "toc_visible": true
    },
    "kernelspec": {
      "display_name": "Python 3",
      "name": "python3"
    }
  },
  "cells": [
    {
      "cell_type": "markdown",
      "metadata": {
        "id": "tb1erVDIYT1a"
      },
      "source": [
        "## Project Hand Sign\n"
      ]
    },
    {
      "cell_type": "markdown",
      "metadata": {
        "id": "_BRekA7GYi0s"
      },
      "source": [
        "# Importing "
      ]
    },
    {
      "cell_type": "code",
      "metadata": {
        "id": "VcHgpGmGYXc4"
      },
      "source": [
        "import numpy as np \n",
        "import pandas as pd \n",
        "import tensorflow as tf "
      ],
      "execution_count": 1,
      "outputs": []
    },
    {
      "cell_type": "code",
      "metadata": {
        "colab": {
          "base_uri": "https://localhost:8080/",
          "height": 36
        },
        "id": "BFDr-GsAY1Ns",
        "outputId": "8290dd43-a019-4693-91e9-88546f90e0f9"
      },
      "source": [
        "tf.__version__"
      ],
      "execution_count": 2,
      "outputs": [
        {
          "output_type": "execute_result",
          "data": {
            "application/vnd.google.colaboratory.intrinsic+json": {
              "type": "string"
            },
            "text/plain": [
              "'2.4.1'"
            ]
          },
          "metadata": {
            "tags": []
          },
          "execution_count": 2
        }
      ]
    },
    {
      "cell_type": "markdown",
      "metadata": {
        "id": "A9ttxEZTY7_n"
      },
      "source": [
        "# Importing data sets"
      ]
    },
    {
      "cell_type": "code",
      "metadata": {
        "id": "ZqDy0G1KZHz_"
      },
      "source": [
        "train_dataset = pd.read_csv(\"sign_mnist_train.csv\")\n",
        "test_dataset = pd.read_csv(\"sign_mnist_test.csv\")"
      ],
      "execution_count": 3,
      "outputs": []
    },
    {
      "cell_type": "markdown",
      "metadata": {
        "id": "sp3kb7qJXf2Z"
      },
      "source": [
        "# Training and Test DataSet"
      ]
    },
    {
      "cell_type": "markdown",
      "metadata": {
        "id": "4CmrA1JAXoJK"
      },
      "source": [
        "**Training DataSet**"
      ]
    },
    {
      "cell_type": "code",
      "metadata": {
        "colab": {
          "base_uri": "https://localhost:8080/",
          "height": 243
        },
        "id": "ZyuTycZzXaks",
        "outputId": "a6a269f1-2696-49a4-fca3-143fc8f3f66f"
      },
      "source": [
        "\n",
        "train_dataset.head()\n"
      ],
      "execution_count": 4,
      "outputs": [
        {
          "output_type": "execute_result",
          "data": {
            "text/html": [
              "<div>\n",
              "<style scoped>\n",
              "    .dataframe tbody tr th:only-of-type {\n",
              "        vertical-align: middle;\n",
              "    }\n",
              "\n",
              "    .dataframe tbody tr th {\n",
              "        vertical-align: top;\n",
              "    }\n",
              "\n",
              "    .dataframe thead th {\n",
              "        text-align: right;\n",
              "    }\n",
              "</style>\n",
              "<table border=\"1\" class=\"dataframe\">\n",
              "  <thead>\n",
              "    <tr style=\"text-align: right;\">\n",
              "      <th></th>\n",
              "      <th>label</th>\n",
              "      <th>pixel1</th>\n",
              "      <th>pixel2</th>\n",
              "      <th>pixel3</th>\n",
              "      <th>pixel4</th>\n",
              "      <th>pixel5</th>\n",
              "      <th>pixel6</th>\n",
              "      <th>pixel7</th>\n",
              "      <th>pixel8</th>\n",
              "      <th>pixel9</th>\n",
              "      <th>pixel10</th>\n",
              "      <th>pixel11</th>\n",
              "      <th>pixel12</th>\n",
              "      <th>pixel13</th>\n",
              "      <th>pixel14</th>\n",
              "      <th>pixel15</th>\n",
              "      <th>pixel16</th>\n",
              "      <th>pixel17</th>\n",
              "      <th>pixel18</th>\n",
              "      <th>pixel19</th>\n",
              "      <th>pixel20</th>\n",
              "      <th>pixel21</th>\n",
              "      <th>pixel22</th>\n",
              "      <th>pixel23</th>\n",
              "      <th>pixel24</th>\n",
              "      <th>pixel25</th>\n",
              "      <th>pixel26</th>\n",
              "      <th>pixel27</th>\n",
              "      <th>pixel28</th>\n",
              "      <th>pixel29</th>\n",
              "      <th>pixel30</th>\n",
              "      <th>pixel31</th>\n",
              "      <th>pixel32</th>\n",
              "      <th>pixel33</th>\n",
              "      <th>pixel34</th>\n",
              "      <th>pixel35</th>\n",
              "      <th>pixel36</th>\n",
              "      <th>pixel37</th>\n",
              "      <th>pixel38</th>\n",
              "      <th>pixel39</th>\n",
              "      <th>...</th>\n",
              "      <th>pixel745</th>\n",
              "      <th>pixel746</th>\n",
              "      <th>pixel747</th>\n",
              "      <th>pixel748</th>\n",
              "      <th>pixel749</th>\n",
              "      <th>pixel750</th>\n",
              "      <th>pixel751</th>\n",
              "      <th>pixel752</th>\n",
              "      <th>pixel753</th>\n",
              "      <th>pixel754</th>\n",
              "      <th>pixel755</th>\n",
              "      <th>pixel756</th>\n",
              "      <th>pixel757</th>\n",
              "      <th>pixel758</th>\n",
              "      <th>pixel759</th>\n",
              "      <th>pixel760</th>\n",
              "      <th>pixel761</th>\n",
              "      <th>pixel762</th>\n",
              "      <th>pixel763</th>\n",
              "      <th>pixel764</th>\n",
              "      <th>pixel765</th>\n",
              "      <th>pixel766</th>\n",
              "      <th>pixel767</th>\n",
              "      <th>pixel768</th>\n",
              "      <th>pixel769</th>\n",
              "      <th>pixel770</th>\n",
              "      <th>pixel771</th>\n",
              "      <th>pixel772</th>\n",
              "      <th>pixel773</th>\n",
              "      <th>pixel774</th>\n",
              "      <th>pixel775</th>\n",
              "      <th>pixel776</th>\n",
              "      <th>pixel777</th>\n",
              "      <th>pixel778</th>\n",
              "      <th>pixel779</th>\n",
              "      <th>pixel780</th>\n",
              "      <th>pixel781</th>\n",
              "      <th>pixel782</th>\n",
              "      <th>pixel783</th>\n",
              "      <th>pixel784</th>\n",
              "    </tr>\n",
              "  </thead>\n",
              "  <tbody>\n",
              "    <tr>\n",
              "      <th>0</th>\n",
              "      <td>3</td>\n",
              "      <td>107</td>\n",
              "      <td>118</td>\n",
              "      <td>127</td>\n",
              "      <td>134</td>\n",
              "      <td>139</td>\n",
              "      <td>143</td>\n",
              "      <td>146</td>\n",
              "      <td>150</td>\n",
              "      <td>153</td>\n",
              "      <td>156</td>\n",
              "      <td>158</td>\n",
              "      <td>160</td>\n",
              "      <td>163</td>\n",
              "      <td>165</td>\n",
              "      <td>159</td>\n",
              "      <td>166</td>\n",
              "      <td>168</td>\n",
              "      <td>170</td>\n",
              "      <td>170</td>\n",
              "      <td>171</td>\n",
              "      <td>171</td>\n",
              "      <td>171</td>\n",
              "      <td>172</td>\n",
              "      <td>171</td>\n",
              "      <td>171</td>\n",
              "      <td>170</td>\n",
              "      <td>170</td>\n",
              "      <td>169</td>\n",
              "      <td>111</td>\n",
              "      <td>121</td>\n",
              "      <td>129</td>\n",
              "      <td>135</td>\n",
              "      <td>141</td>\n",
              "      <td>144</td>\n",
              "      <td>148</td>\n",
              "      <td>151</td>\n",
              "      <td>154</td>\n",
              "      <td>157</td>\n",
              "      <td>160</td>\n",
              "      <td>...</td>\n",
              "      <td>205</td>\n",
              "      <td>206</td>\n",
              "      <td>206</td>\n",
              "      <td>207</td>\n",
              "      <td>207</td>\n",
              "      <td>206</td>\n",
              "      <td>206</td>\n",
              "      <td>204</td>\n",
              "      <td>205</td>\n",
              "      <td>204</td>\n",
              "      <td>203</td>\n",
              "      <td>202</td>\n",
              "      <td>142</td>\n",
              "      <td>151</td>\n",
              "      <td>160</td>\n",
              "      <td>172</td>\n",
              "      <td>196</td>\n",
              "      <td>188</td>\n",
              "      <td>188</td>\n",
              "      <td>190</td>\n",
              "      <td>135</td>\n",
              "      <td>96</td>\n",
              "      <td>86</td>\n",
              "      <td>77</td>\n",
              "      <td>77</td>\n",
              "      <td>79</td>\n",
              "      <td>176</td>\n",
              "      <td>205</td>\n",
              "      <td>207</td>\n",
              "      <td>207</td>\n",
              "      <td>207</td>\n",
              "      <td>207</td>\n",
              "      <td>207</td>\n",
              "      <td>207</td>\n",
              "      <td>206</td>\n",
              "      <td>206</td>\n",
              "      <td>206</td>\n",
              "      <td>204</td>\n",
              "      <td>203</td>\n",
              "      <td>202</td>\n",
              "    </tr>\n",
              "    <tr>\n",
              "      <th>1</th>\n",
              "      <td>6</td>\n",
              "      <td>155</td>\n",
              "      <td>157</td>\n",
              "      <td>156</td>\n",
              "      <td>156</td>\n",
              "      <td>156</td>\n",
              "      <td>157</td>\n",
              "      <td>156</td>\n",
              "      <td>158</td>\n",
              "      <td>158</td>\n",
              "      <td>157</td>\n",
              "      <td>158</td>\n",
              "      <td>156</td>\n",
              "      <td>154</td>\n",
              "      <td>154</td>\n",
              "      <td>153</td>\n",
              "      <td>152</td>\n",
              "      <td>151</td>\n",
              "      <td>149</td>\n",
              "      <td>149</td>\n",
              "      <td>148</td>\n",
              "      <td>147</td>\n",
              "      <td>146</td>\n",
              "      <td>144</td>\n",
              "      <td>142</td>\n",
              "      <td>143</td>\n",
              "      <td>138</td>\n",
              "      <td>92</td>\n",
              "      <td>108</td>\n",
              "      <td>158</td>\n",
              "      <td>159</td>\n",
              "      <td>159</td>\n",
              "      <td>159</td>\n",
              "      <td>160</td>\n",
              "      <td>160</td>\n",
              "      <td>160</td>\n",
              "      <td>160</td>\n",
              "      <td>160</td>\n",
              "      <td>160</td>\n",
              "      <td>160</td>\n",
              "      <td>...</td>\n",
              "      <td>100</td>\n",
              "      <td>78</td>\n",
              "      <td>120</td>\n",
              "      <td>157</td>\n",
              "      <td>168</td>\n",
              "      <td>107</td>\n",
              "      <td>99</td>\n",
              "      <td>121</td>\n",
              "      <td>133</td>\n",
              "      <td>97</td>\n",
              "      <td>95</td>\n",
              "      <td>120</td>\n",
              "      <td>135</td>\n",
              "      <td>116</td>\n",
              "      <td>95</td>\n",
              "      <td>79</td>\n",
              "      <td>69</td>\n",
              "      <td>86</td>\n",
              "      <td>139</td>\n",
              "      <td>173</td>\n",
              "      <td>200</td>\n",
              "      <td>185</td>\n",
              "      <td>175</td>\n",
              "      <td>198</td>\n",
              "      <td>124</td>\n",
              "      <td>118</td>\n",
              "      <td>94</td>\n",
              "      <td>140</td>\n",
              "      <td>133</td>\n",
              "      <td>84</td>\n",
              "      <td>69</td>\n",
              "      <td>149</td>\n",
              "      <td>128</td>\n",
              "      <td>87</td>\n",
              "      <td>94</td>\n",
              "      <td>163</td>\n",
              "      <td>175</td>\n",
              "      <td>103</td>\n",
              "      <td>135</td>\n",
              "      <td>149</td>\n",
              "    </tr>\n",
              "    <tr>\n",
              "      <th>2</th>\n",
              "      <td>2</td>\n",
              "      <td>187</td>\n",
              "      <td>188</td>\n",
              "      <td>188</td>\n",
              "      <td>187</td>\n",
              "      <td>187</td>\n",
              "      <td>186</td>\n",
              "      <td>187</td>\n",
              "      <td>188</td>\n",
              "      <td>187</td>\n",
              "      <td>186</td>\n",
              "      <td>185</td>\n",
              "      <td>185</td>\n",
              "      <td>185</td>\n",
              "      <td>184</td>\n",
              "      <td>184</td>\n",
              "      <td>184</td>\n",
              "      <td>181</td>\n",
              "      <td>181</td>\n",
              "      <td>179</td>\n",
              "      <td>179</td>\n",
              "      <td>179</td>\n",
              "      <td>178</td>\n",
              "      <td>178</td>\n",
              "      <td>109</td>\n",
              "      <td>52</td>\n",
              "      <td>66</td>\n",
              "      <td>77</td>\n",
              "      <td>83</td>\n",
              "      <td>188</td>\n",
              "      <td>189</td>\n",
              "      <td>189</td>\n",
              "      <td>188</td>\n",
              "      <td>188</td>\n",
              "      <td>189</td>\n",
              "      <td>188</td>\n",
              "      <td>188</td>\n",
              "      <td>188</td>\n",
              "      <td>188</td>\n",
              "      <td>187</td>\n",
              "      <td>...</td>\n",
              "      <td>203</td>\n",
              "      <td>204</td>\n",
              "      <td>203</td>\n",
              "      <td>201</td>\n",
              "      <td>200</td>\n",
              "      <td>200</td>\n",
              "      <td>199</td>\n",
              "      <td>198</td>\n",
              "      <td>196</td>\n",
              "      <td>195</td>\n",
              "      <td>194</td>\n",
              "      <td>193</td>\n",
              "      <td>198</td>\n",
              "      <td>166</td>\n",
              "      <td>132</td>\n",
              "      <td>114</td>\n",
              "      <td>89</td>\n",
              "      <td>74</td>\n",
              "      <td>79</td>\n",
              "      <td>77</td>\n",
              "      <td>74</td>\n",
              "      <td>78</td>\n",
              "      <td>132</td>\n",
              "      <td>188</td>\n",
              "      <td>210</td>\n",
              "      <td>209</td>\n",
              "      <td>206</td>\n",
              "      <td>205</td>\n",
              "      <td>204</td>\n",
              "      <td>203</td>\n",
              "      <td>202</td>\n",
              "      <td>201</td>\n",
              "      <td>200</td>\n",
              "      <td>199</td>\n",
              "      <td>198</td>\n",
              "      <td>199</td>\n",
              "      <td>198</td>\n",
              "      <td>195</td>\n",
              "      <td>194</td>\n",
              "      <td>195</td>\n",
              "    </tr>\n",
              "    <tr>\n",
              "      <th>3</th>\n",
              "      <td>2</td>\n",
              "      <td>211</td>\n",
              "      <td>211</td>\n",
              "      <td>212</td>\n",
              "      <td>212</td>\n",
              "      <td>211</td>\n",
              "      <td>210</td>\n",
              "      <td>211</td>\n",
              "      <td>210</td>\n",
              "      <td>210</td>\n",
              "      <td>211</td>\n",
              "      <td>209</td>\n",
              "      <td>207</td>\n",
              "      <td>208</td>\n",
              "      <td>207</td>\n",
              "      <td>206</td>\n",
              "      <td>203</td>\n",
              "      <td>202</td>\n",
              "      <td>201</td>\n",
              "      <td>200</td>\n",
              "      <td>198</td>\n",
              "      <td>197</td>\n",
              "      <td>195</td>\n",
              "      <td>192</td>\n",
              "      <td>197</td>\n",
              "      <td>171</td>\n",
              "      <td>51</td>\n",
              "      <td>52</td>\n",
              "      <td>54</td>\n",
              "      <td>212</td>\n",
              "      <td>213</td>\n",
              "      <td>215</td>\n",
              "      <td>215</td>\n",
              "      <td>212</td>\n",
              "      <td>212</td>\n",
              "      <td>213</td>\n",
              "      <td>212</td>\n",
              "      <td>212</td>\n",
              "      <td>211</td>\n",
              "      <td>211</td>\n",
              "      <td>...</td>\n",
              "      <td>247</td>\n",
              "      <td>242</td>\n",
              "      <td>233</td>\n",
              "      <td>231</td>\n",
              "      <td>230</td>\n",
              "      <td>229</td>\n",
              "      <td>227</td>\n",
              "      <td>225</td>\n",
              "      <td>223</td>\n",
              "      <td>221</td>\n",
              "      <td>220</td>\n",
              "      <td>216</td>\n",
              "      <td>58</td>\n",
              "      <td>51</td>\n",
              "      <td>49</td>\n",
              "      <td>50</td>\n",
              "      <td>57</td>\n",
              "      <td>60</td>\n",
              "      <td>17</td>\n",
              "      <td>15</td>\n",
              "      <td>18</td>\n",
              "      <td>17</td>\n",
              "      <td>19</td>\n",
              "      <td>1</td>\n",
              "      <td>159</td>\n",
              "      <td>255</td>\n",
              "      <td>237</td>\n",
              "      <td>239</td>\n",
              "      <td>237</td>\n",
              "      <td>236</td>\n",
              "      <td>235</td>\n",
              "      <td>234</td>\n",
              "      <td>233</td>\n",
              "      <td>231</td>\n",
              "      <td>230</td>\n",
              "      <td>226</td>\n",
              "      <td>225</td>\n",
              "      <td>222</td>\n",
              "      <td>229</td>\n",
              "      <td>163</td>\n",
              "    </tr>\n",
              "    <tr>\n",
              "      <th>4</th>\n",
              "      <td>13</td>\n",
              "      <td>164</td>\n",
              "      <td>167</td>\n",
              "      <td>170</td>\n",
              "      <td>172</td>\n",
              "      <td>176</td>\n",
              "      <td>179</td>\n",
              "      <td>180</td>\n",
              "      <td>184</td>\n",
              "      <td>185</td>\n",
              "      <td>186</td>\n",
              "      <td>188</td>\n",
              "      <td>189</td>\n",
              "      <td>189</td>\n",
              "      <td>190</td>\n",
              "      <td>191</td>\n",
              "      <td>189</td>\n",
              "      <td>190</td>\n",
              "      <td>190</td>\n",
              "      <td>187</td>\n",
              "      <td>190</td>\n",
              "      <td>192</td>\n",
              "      <td>193</td>\n",
              "      <td>191</td>\n",
              "      <td>191</td>\n",
              "      <td>192</td>\n",
              "      <td>192</td>\n",
              "      <td>194</td>\n",
              "      <td>194</td>\n",
              "      <td>166</td>\n",
              "      <td>169</td>\n",
              "      <td>172</td>\n",
              "      <td>174</td>\n",
              "      <td>177</td>\n",
              "      <td>180</td>\n",
              "      <td>182</td>\n",
              "      <td>185</td>\n",
              "      <td>186</td>\n",
              "      <td>187</td>\n",
              "      <td>190</td>\n",
              "      <td>...</td>\n",
              "      <td>90</td>\n",
              "      <td>77</td>\n",
              "      <td>88</td>\n",
              "      <td>117</td>\n",
              "      <td>123</td>\n",
              "      <td>127</td>\n",
              "      <td>129</td>\n",
              "      <td>134</td>\n",
              "      <td>145</td>\n",
              "      <td>152</td>\n",
              "      <td>156</td>\n",
              "      <td>179</td>\n",
              "      <td>105</td>\n",
              "      <td>106</td>\n",
              "      <td>105</td>\n",
              "      <td>104</td>\n",
              "      <td>104</td>\n",
              "      <td>104</td>\n",
              "      <td>175</td>\n",
              "      <td>199</td>\n",
              "      <td>178</td>\n",
              "      <td>152</td>\n",
              "      <td>136</td>\n",
              "      <td>130</td>\n",
              "      <td>136</td>\n",
              "      <td>150</td>\n",
              "      <td>118</td>\n",
              "      <td>92</td>\n",
              "      <td>85</td>\n",
              "      <td>76</td>\n",
              "      <td>92</td>\n",
              "      <td>105</td>\n",
              "      <td>105</td>\n",
              "      <td>108</td>\n",
              "      <td>133</td>\n",
              "      <td>163</td>\n",
              "      <td>157</td>\n",
              "      <td>163</td>\n",
              "      <td>164</td>\n",
              "      <td>179</td>\n",
              "    </tr>\n",
              "  </tbody>\n",
              "</table>\n",
              "<p>5 rows × 785 columns</p>\n",
              "</div>"
            ],
            "text/plain": [
              "   label  pixel1  pixel2  pixel3  ...  pixel781  pixel782  pixel783  pixel784\n",
              "0      3     107     118     127  ...       206       204       203       202\n",
              "1      6     155     157     156  ...       175       103       135       149\n",
              "2      2     187     188     188  ...       198       195       194       195\n",
              "3      2     211     211     212  ...       225       222       229       163\n",
              "4     13     164     167     170  ...       157       163       164       179\n",
              "\n",
              "[5 rows x 785 columns]"
            ]
          },
          "metadata": {
            "tags": []
          },
          "execution_count": 4
        }
      ]
    },
    {
      "cell_type": "markdown",
      "metadata": {
        "id": "RYL3cOw8eUKg"
      },
      "source": [
        "# Train and Test Set Extraction\n"
      ]
    },
    {
      "cell_type": "code",
      "metadata": {
        "id": "Q0UIDhaSed8-"
      },
      "source": [
        "\n",
        "X_train = train_dataset.iloc[:,1:]\n",
        "Y_train = train_dataset.iloc[:,0]\n",
        "\n",
        "X_test = test_dataset.iloc[:,1:]\n",
        "Y_test = test_dataset.iloc[:,0]\n"
      ],
      "execution_count": 5,
      "outputs": []
    },
    {
      "cell_type": "markdown",
      "metadata": {
        "id": "LpIr63eXSFFy"
      },
      "source": [
        "# Normalisation\n"
      ]
    },
    {
      "cell_type": "code",
      "metadata": {
        "id": "LutAdhj-SOu-"
      },
      "source": [
        "X_train = X_train.astype('float32')\n",
        "X_test = X_test.astype('float32')\n",
        "\n",
        "X_train/=255\n",
        "X_test/=255"
      ],
      "execution_count": 6,
      "outputs": []
    },
    {
      "cell_type": "markdown",
      "metadata": {
        "id": "miw1SNDl9Sjz"
      },
      "source": [
        "# Reshaping for Cov2d Input"
      ]
    },
    {
      "cell_type": "code",
      "metadata": {
        "id": "syoNHro29Vmf"
      },
      "source": [
        "X_train = np.array(X_train)\n",
        "X_test = np.array(X_test)\n",
        "\n",
        "X_train= X_train.reshape(X_train.shape[0], 28, 28, 1)\n",
        "X_test = X_test.reshape(X_test.shape[0], 28, 28, 1)\n"
      ],
      "execution_count": 7,
      "outputs": []
    },
    {
      "cell_type": "markdown",
      "metadata": {
        "id": "a5X1-6jKPkpT"
      },
      "source": [
        ""
      ]
    },
    {
      "cell_type": "markdown",
      "metadata": {
        "id": "Hg0YiJ6pNQwG"
      },
      "source": [
        "\n",
        "# Training and Test Data Sets"
      ]
    },
    {
      "cell_type": "markdown",
      "metadata": {
        "id": "Ts-j9_6dNgAY"
      },
      "source": [
        "**X Train**"
      ]
    },
    {
      "cell_type": "code",
      "metadata": {
        "colab": {
          "base_uri": "https://localhost:8080/"
        },
        "id": "4NsD5h0PPcCK",
        "outputId": "4cb5cecd-9ad5-4a86-dbd4-aefe3d24a02e"
      },
      "source": [
        "\n",
        "print(\"X_Train-> \"+str(list(X_train.shape)))\n",
        "print(\"Y_Train-> \"+str(list(Y_train.shape)))\n",
        "\n",
        "print(\"X_Test->  \"+str(list(X_test.shape)))\n",
        "print(\"Y_test->  \"+str(list(Y_test.shape)))"
      ],
      "execution_count": 8,
      "outputs": [
        {
          "output_type": "stream",
          "text": [
            "X_Train-> [27455, 28, 28, 1]\n",
            "Y_Train-> [27455]\n",
            "X_Test->  [7172, 28, 28, 1]\n",
            "Y_test->  [7172]\n"
          ],
          "name": "stdout"
        }
      ]
    },
    {
      "cell_type": "markdown",
      "metadata": {
        "id": "LvNO7S7acuml"
      },
      "source": [
        "# Encoding the labels"
      ]
    },
    {
      "cell_type": "code",
      "metadata": {
        "id": "pYv4xmLrc6gA"
      },
      "source": [
        "\n",
        "from keras.utils import to_categorical \n",
        "Y_train = to_categorical(Y_train, dtype =\"uint8\") \n",
        "Y_test = to_categorical(Y_test, dtype =\"uint8\")\n"
      ],
      "execution_count": 9,
      "outputs": []
    },
    {
      "cell_type": "markdown",
      "metadata": {
        "id": "oGhfoHyVqFx9"
      },
      "source": [
        "# Data Augmentation"
      ]
    },
    {
      "cell_type": "markdown",
      "metadata": {
        "id": "-nK4zBf7cqf8"
      },
      "source": [
        "**Not needed because of Large number of dataset**"
      ]
    },
    {
      "cell_type": "markdown",
      "metadata": {
        "id": "ZWOXV3lEgDaF"
      },
      "source": [
        "# CNN model"
      ]
    },
    {
      "cell_type": "markdown",
      "metadata": {
        "id": "yzHlysgNgI5-"
      },
      "source": [
        "# Initialising\n"
      ]
    },
    {
      "cell_type": "code",
      "metadata": {
        "id": "XV0I10qGgLjj"
      },
      "source": [
        "cnn = tf.keras.models.Sequential()"
      ],
      "execution_count": 10,
      "outputs": []
    },
    {
      "cell_type": "markdown",
      "metadata": {
        "id": "xaN_YSrdgVnB"
      },
      "source": [
        "Convulation Layer"
      ]
    },
    {
      "cell_type": "code",
      "metadata": {
        "id": "RbKXV7zqgSzE"
      },
      "source": [
        "cnn.add(tf.keras.layers.Conv2D(filters=32, kernel_size=9, activation='relu', input_shape=[28, 28, 1]))"
      ],
      "execution_count": 11,
      "outputs": []
    },
    {
      "cell_type": "markdown",
      "metadata": {
        "id": "K7pkNLY7gmxc"
      },
      "source": [
        "Pooling"
      ]
    },
    {
      "cell_type": "code",
      "metadata": {
        "id": "qHjREXzrgsNF"
      },
      "source": [
        "cnn.add(tf.keras.layers.MaxPool2D(pool_size=2, strides=2))"
      ],
      "execution_count": 12,
      "outputs": []
    },
    {
      "cell_type": "markdown",
      "metadata": {
        "id": "-ePt5Qs4hzHp"
      },
      "source": [
        "2nd Convulation Layer"
      ]
    },
    {
      "cell_type": "code",
      "metadata": {
        "id": "gDox7VpKh3Y8"
      },
      "source": [
        "cnn.add(tf.keras.layers.Conv2D(filters=32, kernel_size=9, activation='relu'))"
      ],
      "execution_count": 13,
      "outputs": []
    },
    {
      "cell_type": "markdown",
      "metadata": {
        "id": "suo89GEE-zSk"
      },
      "source": [
        "2nd Pooling\n"
      ]
    },
    {
      "cell_type": "code",
      "metadata": {
        "id": "7Nw828pG-2Te"
      },
      "source": [
        "cnn.add(tf.keras.layers.MaxPool2D(pool_size=2, strides=2))"
      ],
      "execution_count": 14,
      "outputs": []
    },
    {
      "cell_type": "markdown",
      "metadata": {
        "id": "IivGch9aAG2B"
      },
      "source": [
        "Flatten"
      ]
    },
    {
      "cell_type": "code",
      "metadata": {
        "id": "8sDKdWSqAN79"
      },
      "source": [
        "cnn.add(tf.keras.layers.Flatten())"
      ],
      "execution_count": 15,
      "outputs": []
    },
    {
      "cell_type": "markdown",
      "metadata": {
        "id": "Vjc5_f3xXdWl"
      },
      "source": [
        "Dropout"
      ]
    },
    {
      "cell_type": "code",
      "metadata": {
        "id": "WWeyJ--fXjX4"
      },
      "source": [
        "cnn.add(tf.keras.layers.Dropout(0.5))"
      ],
      "execution_count": 16,
      "outputs": []
    },
    {
      "cell_type": "markdown",
      "metadata": {
        "id": "g_fLe8AsASjk"
      },
      "source": [
        "Full Connection"
      ]
    },
    {
      "cell_type": "code",
      "metadata": {
        "id": "oe-_wynEAWBV"
      },
      "source": [
        "cnn.add(tf.keras.layers.Dense(units=128, activation='relu'))"
      ],
      "execution_count": 17,
      "outputs": []
    },
    {
      "cell_type": "markdown",
      "metadata": {
        "id": "SfBCoq8gA9jk"
      },
      "source": [
        "Output Layer"
      ]
    },
    {
      "cell_type": "code",
      "metadata": {
        "id": "3tUu3oP6BBwk"
      },
      "source": [
        "cnn.add(tf.keras.layers.Dense(units=25, activation='sigmoid'))"
      ],
      "execution_count": 18,
      "outputs": []
    },
    {
      "cell_type": "markdown",
      "metadata": {
        "id": "Qkud9tb0aLWs"
      },
      "source": [
        "# Model Summary"
      ]
    },
    {
      "cell_type": "code",
      "metadata": {
        "colab": {
          "base_uri": "https://localhost:8080/"
        },
        "id": "dDj4r7pbaOiv",
        "outputId": "8e8005d8-f8d3-4a3d-dd21-c35a8d8663fb"
      },
      "source": [
        "cnn.summary()"
      ],
      "execution_count": 19,
      "outputs": [
        {
          "output_type": "stream",
          "text": [
            "Model: \"sequential\"\n",
            "_________________________________________________________________\n",
            "Layer (type)                 Output Shape              Param #   \n",
            "=================================================================\n",
            "conv2d (Conv2D)              (None, 20, 20, 32)        2624      \n",
            "_________________________________________________________________\n",
            "max_pooling2d (MaxPooling2D) (None, 10, 10, 32)        0         \n",
            "_________________________________________________________________\n",
            "conv2d_1 (Conv2D)            (None, 2, 2, 32)          82976     \n",
            "_________________________________________________________________\n",
            "max_pooling2d_1 (MaxPooling2 (None, 1, 1, 32)          0         \n",
            "_________________________________________________________________\n",
            "flatten (Flatten)            (None, 32)                0         \n",
            "_________________________________________________________________\n",
            "dropout (Dropout)            (None, 32)                0         \n",
            "_________________________________________________________________\n",
            "dense (Dense)                (None, 128)               4224      \n",
            "_________________________________________________________________\n",
            "dense_1 (Dense)              (None, 25)                3225      \n",
            "=================================================================\n",
            "Total params: 93,049\n",
            "Trainable params: 93,049\n",
            "Non-trainable params: 0\n",
            "_________________________________________________________________\n"
          ],
          "name": "stdout"
        }
      ]
    },
    {
      "cell_type": "markdown",
      "metadata": {
        "id": "RYSvGgDyiB9p"
      },
      "source": [
        "# Compiling the model"
      ]
    },
    {
      "cell_type": "code",
      "metadata": {
        "id": "UrGHJL8diImJ"
      },
      "source": [
        "cnn.compile(optimizer = 'adam', loss = 'categorical_crossentropy', metrics=['accuracy'])"
      ],
      "execution_count": 20,
      "outputs": []
    },
    {
      "cell_type": "markdown",
      "metadata": {
        "id": "Z_CDGPFUiUAT"
      },
      "source": [
        "# Training the model on Training Set"
      ]
    },
    {
      "cell_type": "code",
      "metadata": {
        "colab": {
          "base_uri": "https://localhost:8080/"
        },
        "id": "Noct4aOPiao1",
        "outputId": "5411d08b-af04-4be0-b63c-4fe4600c1b65"
      },
      "source": [
        "history =cnn.fit(X_train, Y_train,validation_data=(X_test, Y_test) ,batch_size = 32, epochs = 20)"
      ],
      "execution_count": 21,
      "outputs": [
        {
          "output_type": "stream",
          "text": [
            "Epoch 1/20\n",
            "858/858 [==============================] - 19s 22ms/step - loss: 2.7386 - accuracy: 0.1412 - val_loss: 1.5790 - val_accuracy: 0.5146\n",
            "Epoch 2/20\n",
            "858/858 [==============================] - 18s 21ms/step - loss: 1.8412 - accuracy: 0.3577 - val_loss: 1.1529 - val_accuracy: 0.6477\n",
            "Epoch 3/20\n",
            "858/858 [==============================] - 18s 21ms/step - loss: 1.4774 - accuracy: 0.4857 - val_loss: 0.8598 - val_accuracy: 0.7377\n",
            "Epoch 4/20\n",
            "858/858 [==============================] - 18s 21ms/step - loss: 1.1711 - accuracy: 0.5953 - val_loss: 0.7061 - val_accuracy: 0.7680\n",
            "Epoch 5/20\n",
            "858/858 [==============================] - 18s 21ms/step - loss: 1.0114 - accuracy: 0.6558 - val_loss: 0.5745 - val_accuracy: 0.8199\n",
            "Epoch 6/20\n",
            "858/858 [==============================] - 18s 21ms/step - loss: 0.8706 - accuracy: 0.6992 - val_loss: 0.6169 - val_accuracy: 0.7865\n",
            "Epoch 7/20\n",
            "858/858 [==============================] - 18s 21ms/step - loss: 0.7817 - accuracy: 0.7317 - val_loss: 0.5409 - val_accuracy: 0.8384\n",
            "Epoch 8/20\n",
            "858/858 [==============================] - 18s 21ms/step - loss: 0.6978 - accuracy: 0.7604 - val_loss: 0.5897 - val_accuracy: 0.7938\n",
            "Epoch 9/20\n",
            "858/858 [==============================] - 18s 21ms/step - loss: 0.6519 - accuracy: 0.7773 - val_loss: 0.5162 - val_accuracy: 0.8268\n",
            "Epoch 10/20\n",
            "858/858 [==============================] - 18s 21ms/step - loss: 0.6012 - accuracy: 0.7967 - val_loss: 0.5074 - val_accuracy: 0.8245\n",
            "Epoch 11/20\n",
            "858/858 [==============================] - 18s 21ms/step - loss: 0.5709 - accuracy: 0.8061 - val_loss: 0.5707 - val_accuracy: 0.8023\n",
            "Epoch 12/20\n",
            "858/858 [==============================] - 18s 21ms/step - loss: 0.5488 - accuracy: 0.8149 - val_loss: 0.5927 - val_accuracy: 0.7893\n",
            "Epoch 13/20\n",
            "858/858 [==============================] - 18s 21ms/step - loss: 0.5130 - accuracy: 0.8232 - val_loss: 0.5144 - val_accuracy: 0.8233\n",
            "Epoch 14/20\n",
            "858/858 [==============================] - 18s 21ms/step - loss: 0.4925 - accuracy: 0.8316 - val_loss: 0.5945 - val_accuracy: 0.7886\n",
            "Epoch 15/20\n",
            "858/858 [==============================] - 18s 21ms/step - loss: 0.4777 - accuracy: 0.8370 - val_loss: 0.5742 - val_accuracy: 0.8040\n",
            "Epoch 16/20\n",
            "858/858 [==============================] - 18s 21ms/step - loss: 0.4639 - accuracy: 0.8426 - val_loss: 0.6384 - val_accuracy: 0.7839\n",
            "Epoch 17/20\n",
            "858/858 [==============================] - 18s 21ms/step - loss: 0.4537 - accuracy: 0.8442 - val_loss: 0.5835 - val_accuracy: 0.8021\n",
            "Epoch 18/20\n",
            "858/858 [==============================] - 18s 21ms/step - loss: 0.4267 - accuracy: 0.8550 - val_loss: 0.7206 - val_accuracy: 0.7782\n",
            "Epoch 19/20\n",
            "858/858 [==============================] - 18s 21ms/step - loss: 0.4267 - accuracy: 0.8563 - val_loss: 0.7229 - val_accuracy: 0.7730\n",
            "Epoch 20/20\n",
            "858/858 [==============================] - 18s 21ms/step - loss: 0.4188 - accuracy: 0.8559 - val_loss: 0.6825 - val_accuracy: 0.7674\n"
          ],
          "name": "stdout"
        }
      ]
    },
    {
      "cell_type": "markdown",
      "metadata": {
        "id": "s71NTKJvkXM0"
      },
      "source": [
        "# Graph for Train and Test Set"
      ]
    },
    {
      "cell_type": "code",
      "metadata": {
        "colab": {
          "base_uri": "https://localhost:8080/",
          "height": 591
        },
        "id": "Yb2BDXRVkc_M",
        "outputId": "3a073564-f3b8-436b-d585-1d0c96845906"
      },
      "source": [
        "import matplotlib.pyplot as plt\n",
        "\n",
        "# list all data in history\n",
        "print(history.history.keys())\n",
        "\n",
        "#Epoch\n",
        "last_epoch=20-1\n",
        "\n",
        "\n",
        "\n",
        "# summarize history for accuracy\n",
        "plt.plot(history.history['accuracy'])\n",
        "plt.plot(history.history['val_accuracy'])\n",
        "Title_Output_Accuracy=\" Training=\"+str(round(history.history['accuracy'][last_epoch],3))+\" Validation=\"+str(round(history.history['val_accuracy'][last_epoch],3));\n",
        "plt.title(\"model accuracy: \"+Title_Output_Accuracy)\n",
        "plt.ylabel('accuracy')\n",
        "plt.xlabel('epoch')\n",
        "plt.legend(['train', 'test'], loc='upper left')\n",
        "plt.show()\n",
        "\n",
        "\n",
        "# summarize history for loss\n",
        "\n",
        "plt.plot(history.history['loss'])\n",
        "plt.plot(history.history['val_loss'])\n",
        "Title_Output_Loss=\" Training=\"+str(round(history.history['loss'][last_epoch],3))+\" Validation=\"+str(round(history.history['val_loss'][last_epoch],3));\n",
        "plt.title('model loss: '+Title_Output_Loss)\n",
        "plt.ylabel('loss')\n",
        "plt.xlabel('epoch')\n",
        "plt.legend(['train', 'test'], loc='upper left')\n",
        "plt.show()\n",
        "\n"
      ],
      "execution_count": 22,
      "outputs": [
        {
          "output_type": "stream",
          "text": [
            "dict_keys(['loss', 'accuracy', 'val_loss', 'val_accuracy'])\n"
          ],
          "name": "stdout"
        },
        {
          "output_type": "display_data",
          "data": {
            "image/png": "[encoded data removed]",
            "text/plain": [
              "<Figure size 432x288 with 1 Axes>"
            ]
          },
          "metadata": {
            "tags": [],
            "needs_background": "light"
          }
        },
        {
          "output_type": "display_data",
          "data": {
            "image/png": "[encoded data removed]",
            "text/plain": [
              "<Figure size 432x288 with 1 Axes>"
            ]
          },
          "metadata": {
            "tags": [],
            "needs_background": "light"
          }
        }
      ]
    },
    {
      "cell_type": "markdown",
      "metadata": {
        "id": "nDT9XE9LiigM"
      },
      "source": [
        "# Accuracy per classes"
      ]
    },
    {
      "cell_type": "code",
      "metadata": {
        "colab": {
          "base_uri": "https://localhost:8080/"
        },
        "id": "OoNQlGFPim1b",
        "outputId": "08ed0f49-6b33-4a02-dde9-8f2c071ebe22"
      },
      "source": [
        "from sklearn.metrics import classification_report\n",
        "import numpy as np\n",
        "\n",
        "Y_test = np.argmax(Y_test, axis=1) # Convert one-hot to index\n",
        "Y_pred = cnn.predict_classes(X_test)\n",
        "print(classification_report(Y_test, Y_pred))\n"
      ],
      "execution_count": 23,
      "outputs": [
        {
          "output_type": "stream",
          "text": [
            "/usr/local/lib/python3.7/dist-packages/tensorflow/python/keras/engine/sequential.py:450: UserWarning: `model.predict_classes()` is deprecated and will be removed after 2021-01-01. Please use instead:* `np.argmax(model.predict(x), axis=-1)`,   if your model does multi-class classification   (e.g. if it uses a `softmax` last-layer activation).* `(model.predict(x) > 0.5).astype(\"int32\")`,   if your model does binary classification   (e.g. if it uses a `sigmoid` last-layer activation).\n",
            "  warnings.warn('`model.predict_classes()` is deprecated and '\n"
          ],
          "name": "stderr"
        },
        {
          "output_type": "stream",
          "text": [
            "              precision    recall  f1-score   support\n",
            "\n",
            "           0       0.91      0.97      0.94       331\n",
            "           1       0.89      0.91      0.90       432\n",
            "           2       0.79      1.00      0.88       310\n",
            "           3       0.35      1.00      0.52       245\n",
            "           4       1.00      0.49      0.65       498\n",
            "           5       0.89      1.00      0.94       247\n",
            "           6       1.00      0.68      0.81       348\n",
            "           7       0.73      0.87      0.79       436\n",
            "           8       0.80      0.99      0.88       288\n",
            "          10       0.53      0.76      0.62       331\n",
            "          11       1.00      1.00      1.00       209\n",
            "          12       0.94      0.85      0.89       394\n",
            "          13       0.62      0.47      0.54       291\n",
            "          14       0.97      0.72      0.83       246\n",
            "          15       1.00      0.16      0.28       347\n",
            "          16       1.00      0.80      0.89       164\n",
            "          17       0.38      0.73      0.50       144\n",
            "          18       0.79      0.75      0.77       246\n",
            "          19       0.65      0.93      0.76       248\n",
            "          20       0.72      0.83      0.77       266\n",
            "          21       0.81      0.71      0.75       346\n",
            "          22       0.79      0.70      0.74       206\n",
            "          23       0.88      0.67      0.76       267\n",
            "          24       0.92      0.50      0.65       332\n",
            "\n",
            "    accuracy                           0.76      7172\n",
            "   macro avg       0.81      0.77      0.75      7172\n",
            "weighted avg       0.82      0.76      0.75      7172\n",
            "\n"
          ],
          "name": "stdout"
        }
      ]
    },
    {
      "cell_type": "markdown",
      "metadata": {
        "id": "7KLu6Z8dXVX5"
      },
      "source": [
        "#Video Capture"
      ]
    },
    {
      "cell_type": "code",
      "metadata": {
        "id": "ube6MiEGXcHW"
      },
      "source": [
        ""
      ],
      "execution_count": 23,
      "outputs": []
    }
  ]
}